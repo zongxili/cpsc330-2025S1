{
 "cells": [
  {
   "cell_type": "markdown",
   "metadata": {
    "slideshow": {
     "slide_type": "slide"
    }
   },
   "source": [
    "![](../img/330-banner.png)"
   ]
  },
  {
   "cell_type": "markdown",
   "metadata": {
    "tags": []
   },
   "source": [
    "# Lecture 15: More Clustering \n",
    "\n",
    "UBC 2024-25"
   ]
  },
  {
   "cell_type": "markdown",
   "metadata": {
    "slideshow": {
     "slide_type": "skip"
    }
   },
   "source": [
    "<br><br>"
   ]
  },
  {
   "cell_type": "markdown",
   "metadata": {},
   "source": [
    "## Lecture plan and learning outcomes "
   ]
  },
  {
   "cell_type": "markdown",
   "metadata": {
    "slideshow": {
     "slide_type": "skip"
    }
   },
   "source": [
    "### Imports "
   ]
  },
  {
   "cell_type": "code",
   "execution_count": 1,
   "metadata": {
    "slideshow": {
     "slide_type": "skip"
    }
   },
   "outputs": [
    {
     "ename": "ModuleNotFoundError",
     "evalue": "No module named 'yellowbrick'",
     "output_type": "error",
     "traceback": [
      "\u001b[31m---------------------------------------------------------------------------\u001b[39m",
      "\u001b[31mModuleNotFoundError\u001b[39m                       Traceback (most recent call last)",
      "\u001b[36mCell\u001b[39m\u001b[36m \u001b[39m\u001b[32mIn[1]\u001b[39m\u001b[32m, line 21\u001b[39m\n\u001b[32m     19\u001b[39m \u001b[38;5;28;01mfrom\u001b[39;00m\u001b[38;5;250m \u001b[39m\u001b[34;01msklearn\u001b[39;00m\u001b[34;01m.\u001b[39;00m\u001b[34;01mmetrics\u001b[39;00m\u001b[34;01m.\u001b[39;00m\u001b[34;01mpairwise\u001b[39;00m\u001b[38;5;250m \u001b[39m\u001b[38;5;28;01mimport\u001b[39;00m euclidean_distances\n\u001b[32m     20\u001b[39m \u001b[38;5;28;01mfrom\u001b[39;00m\u001b[38;5;250m \u001b[39m\u001b[34;01msklearn\u001b[39;00m\u001b[34;01m.\u001b[39;00m\u001b[34;01mpreprocessing\u001b[39;00m\u001b[38;5;250m \u001b[39m\u001b[38;5;28;01mimport\u001b[39;00m StandardScaler\n\u001b[32m---> \u001b[39m\u001b[32m21\u001b[39m \u001b[38;5;28;01mfrom\u001b[39;00m\u001b[38;5;250m \u001b[39m\u001b[34;01myellowbrick\u001b[39;00m\u001b[34;01m.\u001b[39;00m\u001b[34;01mcluster\u001b[39;00m\u001b[38;5;250m \u001b[39m\u001b[38;5;28;01mimport\u001b[39;00m SilhouetteVisualizer\n\u001b[32m     23\u001b[39m plt.rcParams[\u001b[33m\"\u001b[39m\u001b[33mfont.size\u001b[39m\u001b[33m\"\u001b[39m] = \u001b[32m16\u001b[39m\n\u001b[32m     24\u001b[39m plt.rcParams[\u001b[33m\"\u001b[39m\u001b[33mfigure.figsize\u001b[39m\u001b[33m\"\u001b[39m] = (\u001b[32m5\u001b[39m, \u001b[32m4\u001b[39m)\n",
      "\u001b[31mModuleNotFoundError\u001b[39m: No module named 'yellowbrick'"
     ]
    },
    {
     "data": {
      "image/png": "[encoded data removed]",
      "text/plain": [
       "<Figure size 640x480 with 2 Axes>"
      ]
     },
     "metadata": {},
     "output_type": "display_data"
    }
   ],
   "source": [
    "import os\n",
    "import random\n",
    "import sys\n",
    "\n",
    "import numpy as np\n",
    "import pandas as pd\n",
    "\n",
    "sys.path.append(os.path.join(os.path.abspath(\"..\"), \"code\"))\n",
    "import matplotlib.pyplot as plt\n",
    "import seaborn as sns\n",
    "from plotting_functions import *\n",
    "from plotting_functions_unsup import *\n",
    "from scipy.cluster.hierarchy import dendrogram, fcluster, linkage\n",
    "from sklearn import cluster, datasets, metrics\n",
    "from sklearn.cluster import DBSCAN, AgglomerativeClustering, KMeans\n",
    "from sklearn.mixture import GaussianMixture\n",
    "from sklearn.datasets import make_blobs, make_moons\n",
    "from sklearn.decomposition import PCA\n",
    "from sklearn.metrics.pairwise import euclidean_distances\n",
    "from sklearn.preprocessing import StandardScaler\n",
    "from yellowbrick.cluster import SilhouetteVisualizer\n",
    "\n",
    "plt.rcParams[\"font.size\"] = 16\n",
    "plt.rcParams[\"figure.figsize\"] = (5, 4)\n",
    "%matplotlib inline\n",
    "pd.set_option(\"display.max_colwidth\", 0)"
   ]
  },
  {
   "cell_type": "markdown",
   "metadata": {
    "slideshow": {
     "slide_type": "skip"
    }
   },
   "source": [
    "<br><br>"
   ]
  },
  {
   "cell_type": "markdown",
   "metadata": {
    "slideshow": {
     "slide_type": "slide"
    }
   },
   "source": [
    "### Learning outcomes\n",
    "\n",
    "From this lecture, students are expected to be able to:\n",
    "\n",
    "- Identify limitations of K-Means.\n",
    "- Broadly explain how DBSCAN works.\n",
    "- Apply DBSCAN using `sklearn`. \n",
    "- Explain the effect of epsilon and minimum samples hyperparameters in DBSCAN.  \n",
    "- Explain the difference between core points, border points, and noise points in the context of DBSCAN. \n",
    "- Identify DBSCAN limitations.\n",
    "- Explain the idea of hierarchical clustering.\n",
    "- Visualize dendrograms using `scipy.cluster.hierarchy.dendrogram`.\n",
    "- Use different truncation levels in dendrogram and flatten clusters using `fcluster`.   \n",
    "- Broadly explain the differences between different linkage criteria. \n",
    "- Explain the advantages and disadvantages of different clustering methods. \n",
    "- Apply clustering algorithms on image datasets and interpret clusters. \n",
    "- Recognize the impact of distance measure and representation in clustering methods. "
   ]
  },
  {
   "cell_type": "markdown",
   "metadata": {
    "slideshow": {
     "slide_type": "skip"
    }
   },
   "source": [
    "<br><br><br><br>"
   ]
  },
  {
   "cell_type": "markdown",
   "metadata": {},
   "source": [
    "### 16.1 Select all of the following statements which are **True** (iClicker)\n",
    "\n",
    "- (A) Similar to K-nearest neighbours, K-Means is a non parametric model.\n",
    "- (B) The meaning of $K$ in K-nearest neighbours and K-Means clustering is very similar. \n",
    "- (C) Scaling of input features is crucial in clustering.  \n",
    "- (D) In clustering, it's almost always a good idea to find equal-sized clusters. "
   ]
  },
  {
   "cell_type": "markdown",
   "metadata": {
    "slideshow": {
     "slide_type": "slide"
    }
   },
   "source": [
    "## Recap and motivation [[video](https://youtu.be/1ZwITQyWpkY)]"
   ]
  },
  {
   "cell_type": "markdown",
   "metadata": {
    "slideshow": {
     "slide_type": "slide"
    }
   },
   "source": [
    "### K-Means recap \n",
    "- We discussed K-Means clustering in the previous lecture. \n",
    "- Each cluster is represented by a center. \n",
    "- Given a new point, you can assign it to a cluster by computing the distances to all cluster centers and picking the cluster with the smallest distance. \n",
    "- It's a popular algorithm because \n",
    "    - It's easy to understand and implement.\n",
    "    - Runs relatively quickly and scales well to large datasets. \n",
    "    - `sklearn` has a more scalable variant called [`MiniBatchKMeans`](https://scikit-learn.org/stable/modules/generated/sklearn.cluster.MiniBatchKMeans.html) which can handle very large datasets. "
   ]
  },
  {
   "cell_type": "markdown",
   "metadata": {
    "slideshow": {
     "slide_type": "slide"
    }
   },
   "source": [
    "### K-Means limitations\n",
    "\n",
    "- Relies on random initialization and so the outcome may change depending upon this initialization. \n",
    "- K-Means clustering requires to specify the number of clusters in advance.\n",
    "- Very often you do not know the centers in advance. The elbow method or the silhouette method to find the optimal number of clusters are not always easy to interpret. \n",
    "- Each point has to have a cluster assignment. "
   ]
  },
  {
   "cell_type": "markdown",
   "metadata": {
    "slideshow": {
     "slide_type": "slide"
    }
   },
   "source": [
    "### K-Means limitations: Shape of K-Means clusters\n",
    "\n",
    "- K-Means partitions the space based on the closest mean. \n",
    "- Each cluster is defined solely by its center and so it can only capture relatively simple shapes. \n",
    "- So the boundaries between clusters are linear; It fails to identify clusters with complex shapes. \n",
    "[Source](https://scikit-learn.org/stable/auto_examples/cluster/plot_kmeans_digits.html).\n",
    "\n",
    "![](../img/kmeans_boundaries.png)\n",
    "\n",
    "<!-- <center>\n",
    "<img src=\"img/kmeans_boundaries.png\" alt=\"\" height=\"400\" width=\"400\"> \n",
    "</center>    \n",
    " -->\n"
   ]
  },
  {
   "cell_type": "markdown",
   "metadata": {
    "slideshow": {
     "slide_type": "slide"
    }
   },
   "source": [
    "### K-Means: failure case 1\n",
    "\n",
    "- K-Means performs poorly if the clusters have more complex shapes (e.g., two moons data below). "
   ]
  },
  {
   "cell_type": "code",
   "execution_count": null,
   "metadata": {},
   "outputs": [],
   "source": [
    "X, y = make_moons(n_samples=200, noise=0.05, random_state=42)"
   ]
  },
  {
   "cell_type": "code",
   "execution_count": null,
   "metadata": {},
   "outputs": [],
   "source": [
    "plot_kmeans(X, 2)"
   ]
  },
  {
   "cell_type": "markdown",
   "metadata": {
    "slideshow": {
     "slide_type": "slide"
    }
   },
   "source": [
    "### K-Means: failure case 2 \n",
    "\n",
    "- Again, K-Means is unable to capture complex cluster shapes. "
   ]
  },
  {
   "cell_type": "code",
   "execution_count": null,
   "metadata": {},
   "outputs": [],
   "source": [
    "X = datasets.make_circles(n_samples=200, noise=0.06, factor=0.4)[0]"
   ]
  },
  {
   "cell_type": "code",
   "execution_count": null,
   "metadata": {},
   "outputs": [],
   "source": [
    "plot_kmeans(X, 2)"
   ]
  },
  {
   "cell_type": "markdown",
   "metadata": {
    "slideshow": {
     "slide_type": "slide"
    }
   },
   "source": [
    "### K-Means: failure case 3\n",
    "\n",
    "- It assumes that all directions are equally important for each cluster and fails to identify non-spherical clusters. "
   ]
  },
  {
   "cell_type": "code",
   "execution_count": null,
   "metadata": {},
   "outputs": [],
   "source": [
    "# generate some random cluster data\n",
    "X, y = make_blobs(random_state=170, n_samples=200)\n",
    "rng = np.random.RandomState(74)\n",
    "transformation = rng.normal(size=(2, 2))\n",
    "X = np.dot(X, transformation)"
   ]
  },
  {
   "cell_type": "code",
   "execution_count": null,
   "metadata": {},
   "outputs": [],
   "source": [
    "plot_kmeans(X, 3)"
   ]
  },
  {
   "cell_type": "markdown",
   "metadata": {
    "slideshow": {
     "slide_type": "slide"
    }
   },
   "source": [
    "- Can we do better than this? \n",
    "- Another clustering algorithm called DBSCAN is able to tackle some of these cases. "
   ]
  },
  {
   "cell_type": "markdown",
   "metadata": {},
   "source": [
    "<br><br><br><br><br><br>"
   ]
  },
  {
   "cell_type": "markdown",
   "metadata": {
    "slideshow": {
     "slide_type": "slide"
    }
   },
   "source": [
    "## DBSCAN [[video](https://youtu.be/T4NLsrUaRtg)]\n",
    "\n",
    "- **D**ensity-**B**ased **S**patial **C**lustering of **A**pplications with **N**oise"
   ]
  },
  {
   "cell_type": "markdown",
   "metadata": {
    "slideshow": {
     "slide_type": "slide"
    }
   },
   "source": [
    "### DBSCAN introduction\n",
    "\n",
    "- DBSCAN is a density-based clustering algorithm. \n",
    "- Intuitively, it's based on the idea that clusters form dense regions in the data and so it works by identifying \"crowded\" regions in the feature space. \n",
    "- It can address some of the limitations of K-Means we saw above. \n",
    "    - It does not require the user to specify the number of clusters in advance. \n",
    "    - It can identify points that are not part of any clusters. \n",
    "    - It can capture clusters of complex shapes. "
   ]
  },
  {
   "cell_type": "markdown",
   "metadata": {
    "slideshow": {
     "slide_type": "slide"
    }
   },
   "source": [
    "Let's try `sklearn`'s DBSCAN.   "
   ]
  },
  {
   "cell_type": "code",
   "execution_count": null,
   "metadata": {},
   "outputs": [],
   "source": [
    "X, y = make_moons(n_samples=200, noise=0.08, random_state=42)\n",
    "dbscan = DBSCAN(eps=0.2)\n",
    "dbscan.fit(X)\n",
    "plot_original_clustered(X, dbscan, dbscan.labels_)"
   ]
  },
  {
   "cell_type": "markdown",
   "metadata": {
    "slideshow": {
     "slide_type": "slide"
    }
   },
   "source": [
    "- DBSCAN is able to capture half moons shape\n",
    "- We don't not have to specify the number of clusters. \n",
    "    - That said, it has two other non-trivial hyperparameters to tune. \n",
    "- There are two examples which have not been assigned any label (noise examples). "
   ]
  },
  {
   "cell_type": "markdown",
   "metadata": {
    "slideshow": {
     "slide_type": "slide"
    }
   },
   "source": [
    "One more example of DBSCAN clusters capturing complex cluster shapes. "
   ]
  },
  {
   "cell_type": "code",
   "execution_count": null,
   "metadata": {},
   "outputs": [],
   "source": [
    "X = datasets.make_circles(n_samples=200, noise=0.06, factor=0.4)[0]\n",
    "dbscan = DBSCAN(eps=0.3, min_samples=3)\n",
    "dbscan.fit(X)\n",
    "plot_original_clustered(X, dbscan, dbscan.labels_)"
   ]
  },
  {
   "cell_type": "markdown",
   "metadata": {
    "slideshow": {
     "slide_type": "slide"
    }
   },
   "source": [
    "### How does it work?\n",
    "\n",
    "- Iterative algorithm.  \n",
    "- Based on the idea that clusters form dense regions in the data. \n",
    "\n",
    "![](../img/DBSCAN_search.gif)\n",
    "\n",
    "<!-- <center>\n",
    "<img src=\"img/DBSCAN_search.gif\" alt=\"\" height=\"900\" width=\"900\"> \n",
    "</center>\n",
    " -->\n",
    "[Source](https://dashee87.github.io/data%20science/general/Clustering-with-Scikit-with-GIFs/)"
   ]
  },
  {
   "cell_type": "markdown",
   "metadata": {
    "slideshow": {
     "slide_type": "-"
    }
   },
   "source": [
    "There are three kinds of points.\n",
    "\n",
    "- **Core points** are the points that have at least `min_samples` points within a distance of `eps`\n",
    "\n",
    "- **Border points** are connected to a core point. They are within a distance of eps to core point but they have fewer than `min_samples` points within a distance of `eps`. \n",
    "\n",
    "- **Noise points** are the points which do not belong to any cluster. In other words, the points which have less than `min_samples` points within distance `eps` of the starting point are noise points. \n"
   ]
  },
  {
   "cell_type": "markdown",
   "metadata": {
    "slideshow": {
     "slide_type": "slide"
    }
   },
   "source": [
    "**DBSCAN algorithm**\n",
    "\n",
    "- Pick a point $p$ at random.\n",
    "\n",
    "- Check whether $p$ is a \"core\" point or not. You can check this by looking at the number of neighbours within epsilon distance if they have at least `min_samples` points in the neighbourhood\n",
    "- If $p$ is a core point, give it a colour (label). \n",
    "- Spread the colour of $p$ to all of its neighbours.\n",
    "- Check if any of the neighbours that received the colour is a core point, if yes, spread the colour to its neighbors as well.\n",
    "- Once there are no more core points left to spread the colour, pick a new unlabeled point $p$ and repeat the process."
   ]
  },
  {
   "cell_type": "markdown",
   "metadata": {},
   "source": [
    "**DBSCAN Analogy**\n",
    "\n",
    "Consider DBSCAN in a social context: \n",
    "- Social butterflies (🦋): Core points\n",
    "- Friends of social butterflies who are not social butterflies: Border points\n",
    "- Lone wolves (🐺): Noise points  \n"
   ]
  },
  {
   "cell_type": "markdown",
   "metadata": {
    "slideshow": {
     "slide_type": "slide"
    }
   },
   "source": [
    "**Two main hyperparameters**\n",
    "- `eps`: determines what it means for points to be \"close\"\n",
    "- `min_samples`: determines the number of **neighboring points** we require to consider in order for a point to be part of a cluster"
   ]
  },
  {
   "cell_type": "markdown",
   "metadata": {
    "slideshow": {
     "slide_type": "slide"
    }
   },
   "source": [
    "**Effect of `eps` hyperparameter**"
   ]
  },
  {
   "cell_type": "code",
   "execution_count": null,
   "metadata": {
    "scrolled": true,
    "slideshow": {
     "slide_type": "-"
    }
   },
   "outputs": [],
   "source": [
    "X, y = make_blobs(random_state=40, centers=2, n_samples=6)\n",
    "#interactive(lambda eps=1: plot_dbscan_with_labels(X, eps), eps=(1, 12, 1))"
   ]
  },
  {
   "cell_type": "code",
   "execution_count": null,
   "metadata": {},
   "outputs": [],
   "source": [
    "import panel as pn\n",
    "from panel import widgets\n",
    "from panel.interact import interact\n",
    "import matplotlib\n",
    "\n",
    "pn.extension()\n",
    "\n",
    "def f(eps):\n",
    "    fig = plt.figure(figsize=(6, 4))\n",
    "    return plot_dbscan_with_labels(X, fig, eps)\n",
    "\n",
    "#interact(f, eps=widgets.FloatSlider(start=1, end=12, step=1, value=1))\n",
    "interact(f, eps=widgets.FloatSlider(start=1, end=15, step=2, value=1)).embed(max_opts=100)\n"
   ]
  },
  {
   "cell_type": "code",
   "execution_count": null,
   "metadata": {},
   "outputs": [],
   "source": [
    "dists = euclidean_distances(X, X)\n",
    "pd.DataFrame(dists).round(2)"
   ]
  },
  {
   "cell_type": "code",
   "execution_count": null,
   "metadata": {},
   "outputs": [],
   "source": [
    "dists.min(), dists.max(), dists.mean()"
   ]
  },
  {
   "cell_type": "markdown",
   "metadata": {
    "slideshow": {
     "slide_type": "slide"
    }
   },
   "source": [
    "**Effect of `min_samples` hyperparameter**"
   ]
  },
  {
   "cell_type": "code",
   "execution_count": null,
   "metadata": {},
   "outputs": [],
   "source": [
    "def f(min_samples):\n",
    "    fig = plt.figure(figsize=(6, 4))\n",
    "    return plot_dbscan_with_labels(X, fig, eps=2.0, min_samples=min_samples)\n",
    "\n",
    "interact(f, min_samples=widgets.FloatSlider(start=1, end=5, step=1, value=1))\n",
    "#interact(f, min_samples=widgets.FloatSlider(start=1, end=5, step=1, value=1)).embed(max_opts=100)"
   ]
  },
  {
   "cell_type": "markdown",
   "metadata": {
    "slideshow": {
     "slide_type": "slide"
    }
   },
   "source": [
    "### More details on DBSCAN"
   ]
  },
  {
   "cell_type": "markdown",
   "metadata": {
    "slideshow": {
     "slide_type": "slide"
    }
   },
   "source": [
    "**Illustration of hyperparameters `eps` and `min_samples`**"
   ]
  },
  {
   "cell_type": "code",
   "execution_count": null,
   "metadata": {},
   "outputs": [],
   "source": [
    "X, y = make_blobs(random_state=0, n_samples=12)\n",
    "discrete_scatter(X[:, 0], X[:, 1]);"
   ]
  },
  {
   "cell_type": "code",
   "execution_count": null,
   "metadata": {
    "slideshow": {
     "slide_type": "slide"
    }
   },
   "outputs": [],
   "source": [
    "dbscan = DBSCAN()\n",
    "clusters = dbscan.fit_predict(X)\n",
    "print(\"Cluster memberships:{}\".format(clusters))"
   ]
  },
  {
   "cell_type": "markdown",
   "metadata": {
    "slideshow": {
     "slide_type": "-"
    }
   },
   "source": [
    "- Default values for hyperparameters don't work well on toy datasets. \n",
    "- All points have been marked as noise with the default values for `eps` and `min_samples`\n",
    "- Let's examine the effect of changing these hyperparameters. \n",
    "    - noise points: shown in white\n",
    "    - core points: bigger\n",
    "    - border points: smaller"
   ]
  },
  {
   "cell_type": "code",
   "execution_count": null,
   "metadata": {
    "slideshow": {
     "slide_type": "slide"
    }
   },
   "outputs": [],
   "source": [
    "plot_dbscan()"
   ]
  },
  {
   "cell_type": "markdown",
   "metadata": {
    "slideshow": {
     "slide_type": "slide"
    }
   },
   "source": [
    "**Observations**\n",
    "\n",
    "- Increasing `eps` ($\\uparrow$) (left to right in the plot above) means more points will be included in a cluster. \n",
    "    - `eps` = 1.0 either creates more clusters or more noise points, whereas eps=3.0 puts all points in one cluster with no noise points.  \n",
    "- Increasing `min_samples` ($\\uparrow$) (top to bottom in the plot above) means points in less dense regions will either be labeled as their own cluster or noise. \n",
    "    - `min_samples=2`, for instance, has none or only a fewer noise points whereas `min_samples=5` has several noise points. \n",
    "- Here `min_samples` = 2.0 or 3.0 and `eps` = 1.5 is giving us the best results. \n",
    "- In general, it's not trivial to tune these hyperparameters. \n"
   ]
  },
  {
   "cell_type": "markdown",
   "metadata": {
    "slideshow": {
     "slide_type": "slide"
    }
   },
   "source": [
    "**K-Means vs. DBSCAN**\n",
    "\n",
    "- In DBSCAN, you do not have to specify the number of clusters! \n",
    "    - Instead, you have to tune `eps` and `min_samples`. \n",
    "- Unlike K-Means, DBSCAN doesn't have to assign all points to clusters. \n",
    "    - The label is -1 if a point is unassigned.\n",
    "- Unlike K-Means, there is no `predict` method. \n",
    "    - DBSCAN only really clusters the points you have, not \"new\" or \"test\" points."
   ]
  },
  {
   "cell_type": "markdown",
   "metadata": {
    "slideshow": {
     "slide_type": "slide"
    }
   },
   "source": [
    "### Question for you\n",
    "\n",
    "- Does the order that you pick the points matter in DBSCAN?\n",
    "<br><br><br><br>\n",
    "\n",
    "> No. Any of the cluster's core points is able to fully identify the cluster, with no randomness involved. The only possible conflict you might get is that if two clusters have the same border point. In this case the assignment will be implementation dependent, but usually the border point will be assigned to the first cluster that \"finds\" it. "
   ]
  },
  {
   "cell_type": "markdown",
   "metadata": {
    "slideshow": {
     "slide_type": "slide"
    }
   },
   "source": [
    "### Evaluating DBSCAN clusters \n",
    "- We cannot use the elbow method to examine the goodness of clusters created with DBSCAN. \n",
    "- But we can use the silhouette method because it's not dependent on the idea of cluster centers. "
   ]
  },
  {
   "cell_type": "code",
   "execution_count": null,
   "metadata": {},
   "outputs": [],
   "source": [
    "X, y = make_blobs(random_state=100, centers=3, n_samples=300)\n",
    "dbscan = DBSCAN(eps=2, min_samples=5)\n",
    "dbscan.fit(X)\n",
    "plot_original_clustered(X, dbscan, dbscan.labels_)"
   ]
  },
  {
   "cell_type": "code",
   "execution_count": null,
   "metadata": {
    "slideshow": {
     "slide_type": "slide"
    }
   },
   "outputs": [],
   "source": [
    "# Yellowbrick is designed to work with K-Means and not with DBSCAN.\n",
    "# So it needs the number of clusters stored in n_clusters\n",
    "# It also needs `predict` method to be implemented.\n",
    "# So I'm implementing it here so that we can use Yellowbrick to show Silhouette plots.\n",
    "n_clusters = len(set(dbscan.labels_))\n",
    "dbscan.n_clusters = n_clusters\n",
    "dbscan.predict = lambda x: dbscan.labels_"
   ]
  },
  {
   "cell_type": "code",
   "execution_count": null,
   "metadata": {},
   "outputs": [],
   "source": [
    "visualizer = SilhouetteVisualizer(dbscan, colors=\"yellowbrick\")\n",
    "visualizer.fit(X)  # Fit the data to the visualizer\n",
    "visualizer.show();"
   ]
  },
  {
   "cell_type": "markdown",
   "metadata": {
    "slideshow": {
     "slide_type": "slide"
    }
   },
   "source": [
    "### Summary: Pros and cons\n",
    "\n",
    "- Pros\n",
    "    - Can learn arbitrary cluster shapes\n",
    "    - Can detect outliers \n",
    "- Cons\n",
    "    - Cannot `predict` on new examples.  \n",
    "    - Needs tuning of two non-obvious hyperparameters \n",
    "\n",
    "There is an improved version of DBSCAN called [`HDBSCAN` (hierarchical DBSCAN)](https://github.com/scikit-learn-contrib/hdbscan). "
   ]
  },
  {
   "cell_type": "markdown",
   "metadata": {
    "slideshow": {
     "slide_type": "slide"
    }
   },
   "source": [
    "### DBSCAN: failure cases\n",
    "\n",
    "- DBSCAN is able to capture complex clusters. But this doesn't mean that `DBSCAN` always works better. It has its own problems! \n",
    "- DBSCAN doesn't do well when we have clusters with different densities. \n",
    "    - You can play with the hyperparameters but it's not likely to help much."
   ]
  },
  {
   "cell_type": "markdown",
   "metadata": {
    "slideshow": {
     "slide_type": "slide"
    }
   },
   "source": [
    "### DBSCAN: failure cases\n",
    "\n",
    "- Let's consider this dataset with three clusters of varying densities.  \n",
    "- K-Means performs better compared to DBSCAN. But it has the benefit of knowing the value of $K$ in advance. \n"
   ]
  },
  {
   "cell_type": "code",
   "execution_count": null,
   "metadata": {},
   "outputs": [],
   "source": [
    "X_varied, y_varied = make_blobs(\n",
    "    n_samples=200, cluster_std=[1.0, 5.0, 1.0], random_state=10\n",
    ")\n",
    "plot_k_means_dbscan_comparison(X_varied)"
   ]
  },
  {
   "cell_type": "markdown",
   "metadata": {
    "slideshow": {
     "slide_type": "slide"
    }
   },
   "source": [
    "## ❓❓ Questions for you"
   ]
  },
  {
   "cell_type": "markdown",
   "metadata": {
    "tags": []
   },
   "source": [
    "### 16.2 Select all of the following statements which are **True** (iClicker)\n",
    "\n",
    "- (A) With tiny epsilon (`eps` in `sklearn`) and min samples=1 (`min_samples=1` in `sklearn`) we are likely to end up with each point in its own cluster. \n",
    "- (B) With a smaller value of `eps` and larger number for `min_samples` we are likely to end up with a one big cluster. \n",
    "- (C) K-Means is more susceptible to outliers compared to DBSCAN.  \n",
    "- (D) In DBSCAN to be part of a cluster, each point must have at least `min_samples` neighbours in a given radius (including itself). \n",
    "\n",
    "<br><br><br><br>"
   ]
  },
  {
   "cell_type": "markdown",
   "metadata": {
    "slideshow": {
     "slide_type": "slide"
    }
   },
   "source": [
    "## Hierarchical clustering [[video](https://www.youtube.com/watch?v=NM8lFKFZ2IU)]"
   ]
  },
  {
   "cell_type": "markdown",
   "metadata": {
    "slideshow": {
     "slide_type": "slide"
    }
   },
   "source": [
    "### Introduction \n",
    "- Deciding how many clusters we want is a hard problem. \n",
    "- Often, it's useful to get a complete picture of similarity between points in our data before picking the number of clusters.  \n",
    "- Hierarchical clustering is helpful in these scenarios.  "
   ]
  },
  {
   "cell_type": "markdown",
   "metadata": {
    "slideshow": {
     "slide_type": "slide"
    }
   },
   "source": [
    "**Main idea**\n",
    "\n",
    "1. Start with each point in its own cluster. \n",
    "2. Greedily merge most similar *clusters*. \n",
    "3. Repeat Step 2 until you obtain only one cluster ($n-1$ times)."
   ]
  },
  {
   "cell_type": "markdown",
   "metadata": {
    "slideshow": {
     "slide_type": "slide"
    }
   },
   "source": [
    "- Hierarchical clustering can be visualized using a tool called **a dendrogram**. \n",
    "- Unfortunately, `sklearn` cannot do it so we will use the package `scipy.cluster.hierarchy` for hierarchical clustering. Let's try it out before understanding how it works. "
   ]
  },
  {
   "cell_type": "code",
   "execution_count": null,
   "metadata": {},
   "outputs": [],
   "source": [
    "from scipy.cluster.hierarchy import (\n",
    "    average,\n",
    "    complete,\n",
    "    dendrogram,\n",
    "    fcluster,\n",
    "    single,\n",
    "    ward,\n",
    ")\n",
    "\n",
    "X_orig, y = make_blobs(random_state=0, n_samples=11)\n",
    "X = StandardScaler().fit_transform(X_orig)\n",
    "linkage_array = ward(X)"
   ]
  },
  {
   "cell_type": "code",
   "execution_count": null,
   "metadata": {},
   "outputs": [],
   "source": [
    "plot_X_dendrogram(X, linkage_array, label_n_clusters=True) # user-defined function defined in code/plotting_functions.py"
   ]
  },
  {
   "cell_type": "markdown",
   "metadata": {
    "slideshow": {
     "slide_type": "slide"
    }
   },
   "source": [
    "- Every point goes through the journey of being on its own (its own cluster) and getting merged with some other bigger clusters. \n",
    "- The intermediate steps in the process provide us clustering with different number of clusters. "
   ]
  },
  {
   "cell_type": "markdown",
   "metadata": {
    "slideshow": {
     "slide_type": "slide"
    }
   },
   "source": [
    "### Dendrogram\n",
    "\n",
    "- Dendrogram is a tree-like plot. \n",
    "- On the x-axis we have data points. \n",
    "- On the y-axis we have distances between clusters. \n",
    "- We start with data points as leaves of the tree.  \n",
    "- New parent node is created for every two clusters that are joined. \n",
    "- The length of each branch shows how far the merged clusters go. \n",
    "    - In the dendrogram above going from three clusters to two clusters means merging far apart points because the branches between three cluster to two clusters are long. "
   ]
  },
  {
   "cell_type": "markdown",
   "metadata": {},
   "source": [
    "**How to plot a dendrogram?**"
   ]
  },
  {
   "cell_type": "code",
   "execution_count": null,
   "metadata": {},
   "outputs": [],
   "source": [
    "from scipy.cluster.hierarchy import dendrogram\n",
    "\n",
    "ax = plt.gca()\n",
    "dendrogram(linkage_array, ax=ax, color_threshold=3)\n",
    "plt.xlabel(\"Sample index\")\n",
    "plt.ylabel(\"Cluster distance\");"
   ]
  },
  {
   "cell_type": "markdown",
   "metadata": {},
   "source": [
    "```{note} \n",
    "The colours you see above are based on the `color_threshold` parameter. It colours all the descendent links below a cluster node $k$ the same color if $k$ is the first node below the cut threshold."
   ]
  },
  {
   "cell_type": "markdown",
   "metadata": {
    "slideshow": {
     "slide_type": "slide"
    }
   },
   "source": [
    "**Flat clusters**\n",
    "\n",
    "- This is good but how can we get cluster labels from a dendrogram? \n",
    "- We can bring the clustering to a \"flat\" format use `fcluster`"
   ]
  },
  {
   "cell_type": "code",
   "execution_count": null,
   "metadata": {},
   "outputs": [],
   "source": [
    "from scipy.cluster.hierarchy import fcluster\n",
    "\n",
    "# flattening the dendrogram based on maximum number of clusters. \n",
    "hier_labels1 = fcluster(linkage_array, 3, criterion=\"maxclust\") \n",
    "hier_labels1"
   ]
  },
  {
   "cell_type": "code",
   "execution_count": null,
   "metadata": {},
   "outputs": [],
   "source": [
    "plot_dendrogram_clusters(X, linkage_array, hier_labels1, title=\"flattened with max_clusts=3\")"
   ]
  },
  {
   "cell_type": "code",
   "execution_count": null,
   "metadata": {},
   "outputs": [],
   "source": [
    "# flattening the dendrogram based on maximum distance between points. \n",
    "hier_labels2 = fcluster(linkage_array, 0.7, criterion=\"distance\") \n",
    "hier_labels2"
   ]
  },
  {
   "cell_type": "code",
   "execution_count": null,
   "metadata": {},
   "outputs": [],
   "source": [
    "plot_dendrogram_clusters(X, linkage_array, hier_labels2, title=\"flattened with dist=0.7\", color_threshold=0.7)"
   ]
  },
  {
   "cell_type": "markdown",
   "metadata": {
    "slideshow": {
     "slide_type": "slide"
    }
   },
   "source": [
    "When we create a dendrogram, we need to calculate distance between clusters. \n",
    "\n",
    "- We know how to measure distance between points (e.g., using Euclidean distance). \n",
    "- How do we measure distances between clusters? \n",
    "- The **linkage criteria** determines how to find similarity between clusters:\n",
    "- Some example linkage criteria are: \n",
    "    - Single linkage $\\rightarrow$ smallest minimal distance, leads to loose clusters\n",
    "    - Complete linkage $\\rightarrow$ smallest maximum distance, leads to tight clusters \n",
    "    - Average linkage $\\rightarrow$ smallest average distance between all pairs of points in the clusters\n",
    "    - Ward linkage $\\rightarrow$ smallest increase in within-cluster variance, leads to equally sized clusters"
   ]
  },
  {
   "cell_type": "code",
   "execution_count": null,
   "metadata": {
    "slideshow": {
     "slide_type": "slide"
    }
   },
   "outputs": [],
   "source": [
    "plot_X_dendrogram(X, linkage_array, label_n_clusters=True)"
   ]
  },
  {
   "cell_type": "markdown",
   "metadata": {
    "slideshow": {
     "slide_type": "slide"
    }
   },
   "source": [
    "**`single` linkage**\n",
    "\n",
    "- Merges two clusters that have the smallest minimum distance between all their points. \n",
    "- Let's use `scipy.cluster.hierarchy`'s `single` to get linkage information. \n",
    "- This method gives us matrix `Z` with the merging information. "
   ]
  },
  {
   "cell_type": "code",
   "execution_count": null,
   "metadata": {
    "slideshow": {
     "slide_type": "-"
    }
   },
   "outputs": [],
   "source": [
    "Z = single(X)\n",
    "columns = [\"c1\", \"c2\", \"distance(c1, c2)\", \"# observations\"]"
   ]
  },
  {
   "cell_type": "code",
   "execution_count": null,
   "metadata": {
    "slideshow": {
     "slide_type": "slide"
    }
   },
   "outputs": [],
   "source": [
    "pd.DataFrame(Z, columns=columns).head()"
   ]
  },
  {
   "cell_type": "markdown",
   "metadata": {
    "slideshow": {
     "slide_type": "-"
    }
   },
   "source": [
    "- The linkage returns a matrix `Z` of shape n-1 by 4:\n",
    "- The rows represent iterations. \n",
    "- First and second columns (c1 and c2 above): indexes of the clusters being merged.\n",
    "- Third column (distance(c1, c2)): the distance between the clusters being merged.\n",
    "- Fourth column (# observations): the number of examples in the newly formed cluster."
   ]
  },
  {
   "cell_type": "markdown",
   "metadata": {
    "slideshow": {
     "slide_type": "slide"
    }
   },
   "source": [
    "**Creating dendrogram with `single` linkage**"
   ]
  },
  {
   "cell_type": "code",
   "execution_count": null,
   "metadata": {},
   "outputs": [],
   "source": [
    "linkage_array = single(X)\n",
    "hier_labels = fcluster(linkage_array, 3, criterion=\"maxclust\") \n",
    "plot_dendrogram_clusters(X, linkage_array, hier_labels, title=\"maxclust 3\", color_threshold=1.0)"
   ]
  },
  {
   "cell_type": "markdown",
   "metadata": {},
   "source": [
    "Suppose we decide to go from 3 clusters to 2 clusters. Which clusters would be merged with single linkage criterion? It will merge the clusters with Suppose we decide to go from 3 clusters to 2 clusters. Which clusters would be merged with single linkage criterion? It will merge the clusters with the smallest minimal distance. the smallest minimal distance. "
   ]
  },
  {
   "cell_type": "code",
   "execution_count": null,
   "metadata": {},
   "outputs": [],
   "source": [
    "hier_labels = fcluster(linkage_array, 2, criterion=\"maxclust\") \n",
    "plot_dendrogram_clusters(X, linkage_array, hier_labels,title=\"maxclust 2\", color_threshold=1.4)"
   ]
  },
  {
   "cell_type": "markdown",
   "metadata": {
    "slideshow": {
     "slide_type": "slide"
    }
   },
   "source": [
    "**`complete` linkage**\n",
    "\n",
    "- Merges two clusters that have the smallest maximum distance between their points. "
   ]
  },
  {
   "cell_type": "code",
   "execution_count": null,
   "metadata": {},
   "outputs": [],
   "source": [
    "linkage_array = complete(X)\n",
    "hier_labels = fcluster(linkage_array, 3, criterion=\"maxclust\") \n",
    "plot_dendrogram_clusters(X, linkage_array, hier_labels, linkage_type='complete', title=\"maxclust 3\")"
   ]
  },
  {
   "cell_type": "markdown",
   "metadata": {},
   "source": [
    "Suppose we decide to go from 3 clusters to 2 clusters. Which clusters would be merged with single linkage criterion? It will merge the clusters with the smallest maximum distance. "
   ]
  },
  {
   "cell_type": "code",
   "execution_count": null,
   "metadata": {},
   "outputs": [],
   "source": [
    "hier_labels = fcluster(linkage_array, 2, criterion=\"maxclust\") \n",
    "plot_dendrogram_clusters(X, linkage_array, hier_labels, linkage_type='complete', title=\"maxclust 2\")"
   ]
  },
  {
   "cell_type": "markdown",
   "metadata": {
    "slideshow": {
     "slide_type": "slide"
    }
   },
   "source": [
    "**`average` linkage**\n",
    "\n",
    "- Merges two clusters that have the smallest average distance between all their points. "
   ]
  },
  {
   "cell_type": "code",
   "execution_count": null,
   "metadata": {},
   "outputs": [],
   "source": [
    "linkage_array = average(X)\n",
    "hier_labels = fcluster(linkage_array, 3, criterion=\"maxclust\") \n",
    "plot_dendrogram_clusters(X, linkage_array, hier_labels, title=\"maxclust 3\", color_threshold=1.5)"
   ]
  },
  {
   "cell_type": "markdown",
   "metadata": {},
   "source": [
    "Suppose we decide to go from 3 clusters to 2 clusters. Which clusters would be merged with single linkage criterion? It will merge the clusters with the smallest average distance. "
   ]
  },
  {
   "cell_type": "code",
   "execution_count": null,
   "metadata": {},
   "outputs": [],
   "source": [
    "hier_labels = fcluster(linkage_array, 2, criterion=\"maxclust\") \n",
    "plot_dendrogram_clusters(X, linkage_array, hier_labels, linkage_type='average', title=\"maxclust 2\", color_threshold=2.25)"
   ]
  },
  {
   "cell_type": "markdown",
   "metadata": {
    "slideshow": {
     "slide_type": "slide"
    }
   },
   "source": [
    "**`ward` linkage**\n",
    "\n",
    "- Picks two clusters to merge such that the variance within all clusters increases the least. \n",
    "- Often leads to equally sized clusters. "
   ]
  },
  {
   "cell_type": "code",
   "execution_count": null,
   "metadata": {},
   "outputs": [],
   "source": [
    "linkage_array = ward(X)\n",
    "hier_labels = fcluster(linkage_array, 3, criterion=\"maxclust\") \n",
    "plot_dendrogram_clusters(X, linkage_array, hier_labels, linkage_type='ward', title=\"maxclust 3\")"
   ]
  },
  {
   "cell_type": "markdown",
   "metadata": {},
   "source": [
    "Suppose we decide to go from 3 clusters to 2 clusters. Which clusters would be merged with ward linkage criterion? It will merge the clusters with the smallest within-cluster variance. "
   ]
  },
  {
   "cell_type": "code",
   "execution_count": null,
   "metadata": {},
   "outputs": [],
   "source": [
    "hier_labels = fcluster(linkage_array, 2, criterion=\"maxclust\") \n",
    "plot_dendrogram_clusters(X, linkage_array, hier_labels, linkage_type='ward', title=\"maxclust 2\", color_threshold=4.3)"
   ]
  },
  {
   "cell_type": "markdown",
   "metadata": {},
   "source": [
    "Different type of linkage criterion can be appropriate in different scenarios and the goals of clustering analysis. "
   ]
  },
  {
   "cell_type": "code",
   "execution_count": null,
   "metadata": {},
   "outputs": [],
   "source": [
    "from sklearn.datasets import make_blobs\n",
    "X2, y = make_blobs(n_samples=200, centers=3, random_state=0)\n",
    "np.random.seed(42)\n",
    "X2[:50] += np.random.uniform(low=0.3, high=1, size=(50, 2)) # Add some noise to the dataset"
   ]
  },
  {
   "cell_type": "code",
   "execution_count": null,
   "metadata": {},
   "outputs": [],
   "source": [
    "plot_linkage_criteria(X2, 3)"
   ]
  },
  {
   "cell_type": "markdown",
   "metadata": {},
   "source": [
    "- Single linkage $\\rightarrow$ smallest minimal distance, leads to loose clusters\n",
    "- Complete linkage $\\rightarrow$ smallest maximum distance, leads to tight clusters \n",
    "- Average linkage $\\rightarrow$ smallest average distance between all pairs of points in the clusters\n",
    "- Ward linkage $\\rightarrow$ smallest increase in within-cluster variance, leads to equally sized clusters"
   ]
  },
  {
   "cell_type": "markdown",
   "metadata": {},
   "source": [
    "**Truncation**\n",
    "\n",
    "This is a toy dataset and it's possible to view all the leaves. But what if we have thousands of examples, which is common in real-world datasets? We can use truncation. There are two levels of truncation supported in `scipy.cluster.hierarchy`. \n",
    "- `level` $\\rightarrow$ Maximum depth of the tree is $p$\n",
    "- `lastp` $\\rightarrow$ Only $p$ leaves are shown "
   ]
  },
  {
   "cell_type": "code",
   "execution_count": null,
   "metadata": {},
   "outputs": [],
   "source": [
    "Z = single(X)\n",
    "dendrogram(Z, p=2, truncate_mode=\"level\");\n",
    "# p is the max depth of the tree"
   ]
  },
  {
   "cell_type": "code",
   "execution_count": null,
   "metadata": {},
   "outputs": [],
   "source": [
    "dendrogram(Z, p=5, truncate_mode=\"lastp\");\n",
    "# p is the number of leaf nodes"
   ]
  },
  {
   "cell_type": "code",
   "execution_count": null,
   "metadata": {},
   "outputs": [],
   "source": [
    "hc_truncation_toy_demo(Z);"
   ]
  },
  {
   "cell_type": "markdown",
   "metadata": {},
   "source": [
    "```note\n",
    "I’m not quite sure why we see 0 and 2 not merged for truncation_mode = 'level' and p=1 🤔.\n",
    "```"
   ]
  },
  {
   "cell_type": "markdown",
   "metadata": {},
   "source": [
    "<br><br>"
   ]
  },
  {
   "cell_type": "markdown",
   "metadata": {},
   "source": [
    "<br><br>"
   ]
  },
  {
   "cell_type": "markdown",
   "metadata": {
    "slideshow": {
     "slide_type": "slide"
    }
   },
   "source": [
    "## ❓❓ Questions for you"
   ]
  },
  {
   "cell_type": "markdown",
   "metadata": {
    "slideshow": {
     "slide_type": "slide"
    }
   },
   "source": [
    "### 16.3 Select all of the following statements which are **True** \n",
    "\n",
    "- (A) In hierarchical clustering we do not have to worry about initialization. \n",
    "- (B) Hierarchical clustering can only be applied to smaller datasets because dendrograms are hard to visualize for large datasets.\n",
    "- (C) In all the clustering methods we have seen (K-Means, DBSCAN, hierarchical clustering), there is a way to decide the granularity of clustering (i.e., how many clusters to pick). \n",
    "- (D) To get robust clustering we can naively ensemble cluster labels (e.g., pick the most popular label) produced by different clustering methods. \n",
    "- (E) If you have a high Silhouette score and very clean and robust clusters, it means that the algorithm has captured the semantic meaning in the data of our interest.   \n",
    "\n",
    "<br><br><br><br>"
   ]
  },
  {
   "cell_type": "markdown",
   "metadata": {
    "slideshow": {
     "slide_type": "slide"
    }
   },
   "source": [
    "## Final comments, summary, and reflection"
   ]
  },
  {
   "cell_type": "markdown",
   "metadata": {
    "slideshow": {
     "slide_type": "slide"
    }
   },
   "source": [
    "### Take-home message\n",
    "\n",
    "- We saw four methods for clustering: Centroid-based clustering (K-Means), distribution-based clustering (Gaussian mixture models), density-based clustering (DBSCAN), and hierarchical clustering. \n",
    "- There are many more clustering algorithms out there which we didn't talk about. For example see [this overview of clustering methods](https://scikit-learn.org/stable/modules/clustering.html#overview-of-clustering-methods). \n",
    "- Two important aspects of clustering\n",
    "    - Choice of distance metric\n",
    "    - Data representation\n",
    "- Choosing the appropriate number of clusters for a given problem is quite hard. \n",
    "- A lot of manual interpretation is involved in clustering. "
   ]
  },
  {
   "cell_type": "markdown",
   "metadata": {
    "slideshow": {
     "slide_type": "slide"
    }
   },
   "source": [
    "### A few comments on clustering evaluation\n",
    "\n",
    "- If you know the ground truth, you can use metrics such as [adjusted random score](https://scikit-learn.org/stable/modules/generated/sklearn.metrics.adjusted_rand_score.html) or [normalized mutual information score](https://scikit-learn.org/stable/modules/generated/sklearn.metrics.normalized_mutual_info_score.html). \n",
    "- We can't use accuracy scores. \n",
    "    - Because the labels themselves are meaningless in clustering.  \n",
    "- Usually ground truth is not available, and if it is available we would probably go with supervised models.     "
   ]
  },
  {
   "cell_type": "markdown",
   "metadata": {
    "slideshow": {
     "slide_type": "slide"
    }
   },
   "source": [
    "\n",
    "- The silhouette score works for different clustering methods and it can give us some intuition about the quality of clusters. But it's not very interpretable on real-world datasets."
   ]
  },
  {
   "cell_type": "markdown",
   "metadata": {
    "slideshow": {
     "slide_type": "slide"
    }
   },
   "source": [
    "A couple of ways to evaluate clustering: \n",
    "- Using *robustness-based* clustering metrics\n",
    "- The idea is to run a clustering algorithm or a number of clustering algorithms after adding some noise to the data or using different parameter settings and comparing outcomes. \n",
    "- If many models, perturbations, and parameters are giving the same result, the clustering is likely to be trustworthy.  \n",
    "- But how do we compare clustering partitions of two different clustering models? We can use some metrics which are based on the [contingency matrix](http://www.comparingpartitions.info/?link=Tut14).  \n",
    "- That said, even though all clustering models give similar results, the clusters might not capture the aspect you are interested in. \n",
    "- So you cannot really avoid manual inspection. \n",
    "- Manual inspection and analysis is tedious but remember that this is what makes data scientists valuable. We can focus on the things ML models are not good at. "
   ]
  },
  {
   "cell_type": "markdown",
   "metadata": {},
   "source": [
    "<br><br>"
   ]
  },
  {
   "cell_type": "markdown",
   "metadata": {
    "slideshow": {
     "slide_type": "slide"
    }
   },
   "source": [
    "## Resources \n",
    "\n",
    "- Check out this nice comparison of [sklearn clustering algorithms](https://scikit-learn.org/stable/modules/clustering.html#overview-of-clustering-methods).\n",
    "- [DBSCAN Visualization](https://www.naftaliharris.com/blog/visualizing-dbscan-clustering/)\n",
    "- There is also [Hierarchical DBSCAN](https://hdbscan.readthedocs.io/en/latest/how_hdbscan_works.html). \n",
    "- [Clustering with Scikit with GIFs](https://dashee87.github.io/data%20science/general/Clustering-with-Scikit-with-GIFs/)"
   ]
  }
 ],
 "metadata": {
  "celltoolbar": "Slideshow",
  "kernelspec": {
   "display_name": "cpsc330",
   "language": "python",
   "name": "python3"
  },
  "language_info": {
   "codemirror_mode": {
    "name": "ipython",
    "version": 3
   },
   "file_extension": ".py",
   "mimetype": "text/x-python",
   "name": "python",
   "nbconvert_exporter": "python",
   "pygments_lexer": "ipython3",
   "version": "3.12.0"
  }
 },
 "nbformat": 4,
 "nbformat_minor": 4
}
